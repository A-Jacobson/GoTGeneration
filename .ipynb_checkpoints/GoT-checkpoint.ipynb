{
 "cells": [
  {
   "cell_type": "code",
   "execution_count": 1,
   "metadata": {
    "collapsed": true
   },
   "outputs": [],
   "source": [
    "import os"
   ]
  },
  {
   "cell_type": "code",
   "execution_count": 55,
   "metadata": {
    "collapsed": false
   },
   "outputs": [],
   "source": [
    "def create_corpus(path=os.path.join(os.curdir, \"Data\"), outpath=os.path.join(path, \"corpus.txt\"):\n",
    "    if os.path.exists(outpath):\n",
    "        os.remove(outpath)\n",
    "    filenames = os.listdir(path)\n",
    "    print \"Combining Files...\"\n",
    "    with open(outpath,  'w') as outfile:\n",
    "        for fname in filenames:\n",
    "            print fname\n",
    "            with open(os.path.join(path, fname)) as infile:\n",
    "                outfile.write(infile.read())\n",
    "                \n",
    "            "
   ]
  },
  {
   "cell_type": "code",
   "execution_count": 56,
   "metadata": {
    "collapsed": false
   },
   "outputs": [
    {
     "name": "stdout",
     "output_type": "stream",
     "text": [
      "Combining Files...\n",
      "001ssb.txt\n",
      "002ssb.txt\n",
      "003ssb.txt\n",
      "004ssb.txt\n",
      "005ssb.txt\n"
     ]
    }
   ],
   "source": [
    "create_corpus()"
   ]
  },
  {
   "cell_type": "code",
   "execution_count": 52,
   "metadata": {
    "collapsed": false
   },
   "outputs": [
    {
     "data": {
      "text/plain": [
       "True"
      ]
     },
     "execution_count": 52,
     "metadata": {},
     "output_type": "execute_result"
    }
   ],
   "source": [
    "os.path.exists(os.path.join(os.curdir, \"Data\", \"corpus.txt\"))"
   ]
  },
  {
   "cell_type": "code",
   "execution_count": null,
   "metadata": {
    "collapsed": true
   },
   "outputs": [],
   "source": []
  }
 ],
 "metadata": {
  "kernelspec": {
   "display_name": "Python 2",
   "language": "python",
   "name": "python2"
  },
  "language_info": {
   "codemirror_mode": {
    "name": "ipython",
    "version": 2
   },
   "file_extension": ".py",
   "mimetype": "text/x-python",
   "name": "python",
   "nbconvert_exporter": "python",
   "pygments_lexer": "ipython2",
   "version": "2.7.11"
  }
 },
 "nbformat": 4,
 "nbformat_minor": 0
}
